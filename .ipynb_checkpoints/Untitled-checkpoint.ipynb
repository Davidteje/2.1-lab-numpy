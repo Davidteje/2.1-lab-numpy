{
 "cells": [
  {
   "cell_type": "markdown",
   "id": "62b2e666",
   "metadata": {},
   "source": [
    "#1. Import the NUMPY package under the name np."
   ]
  },
  {
   "cell_type": "code",
   "execution_count": 130,
   "id": "1731a06e",
   "metadata": {},
   "outputs": [
    {
     "name": "stdout",
     "output_type": "stream",
     "text": [
      "Requirement already satisfied: numpy in c:\\users\\david\\anaconda3\\envs\\clase\\lib\\site-packages (1.21.6)\n",
      "Note: you may need to restart the kernel to use updated packages.\n"
     ]
    }
   ],
   "source": [
    "%pip install numpy"
   ]
  },
  {
   "cell_type": "code",
   "execution_count": 131,
   "id": "409564e0",
   "metadata": {},
   "outputs": [],
   "source": [
    "import numpy as np"
   ]
  },
  {
   "cell_type": "markdown",
   "id": "b573c605",
   "metadata": {},
   "source": [
    "#2. Print the NUMPY version and the configuration."
   ]
  },
  {
   "cell_type": "code",
   "execution_count": 132,
   "id": "611bb846",
   "metadata": {},
   "outputs": [
    {
     "name": "stdout",
     "output_type": "stream",
     "text": [
      "1.21.6\n"
     ]
    }
   ],
   "source": [
    "print(np.__version__)"
   ]
  },
  {
   "cell_type": "code",
   "execution_count": 133,
   "id": "f8b57910",
   "metadata": {},
   "outputs": [
    {
     "name": "stdout",
     "output_type": "stream",
     "text": [
      "blas_mkl_info:\n",
      "  NOT AVAILABLE\n",
      "blis_info:\n",
      "  NOT AVAILABLE\n",
      "openblas_info:\n",
      "    library_dirs = ['D:\\\\a\\\\1\\\\s\\\\numpy\\\\build\\\\openblas_info']\n",
      "    libraries = ['openblas_info']\n",
      "    language = f77\n",
      "    define_macros = [('HAVE_CBLAS', None)]\n",
      "blas_opt_info:\n",
      "    library_dirs = ['D:\\\\a\\\\1\\\\s\\\\numpy\\\\build\\\\openblas_info']\n",
      "    libraries = ['openblas_info']\n",
      "    language = f77\n",
      "    define_macros = [('HAVE_CBLAS', None)]\n",
      "lapack_mkl_info:\n",
      "  NOT AVAILABLE\n",
      "openblas_lapack_info:\n",
      "    library_dirs = ['D:\\\\a\\\\1\\\\s\\\\numpy\\\\build\\\\openblas_lapack_info']\n",
      "    libraries = ['openblas_lapack_info']\n",
      "    language = f77\n",
      "    define_macros = [('HAVE_CBLAS', None)]\n",
      "lapack_opt_info:\n",
      "    library_dirs = ['D:\\\\a\\\\1\\\\s\\\\numpy\\\\build\\\\openblas_lapack_info']\n",
      "    libraries = ['openblas_lapack_info']\n",
      "    language = f77\n",
      "    define_macros = [('HAVE_CBLAS', None)]\n",
      "Supported SIMD extensions in this NumPy install:\n",
      "    baseline = SSE,SSE2,SSE3\n",
      "    found = SSSE3,SSE41,POPCNT,SSE42,AVX,F16C,FMA3,AVX2\n",
      "    not found = AVX512F,AVX512CD,AVX512_SKX,AVX512_CLX,AVX512_CNL,AVX512_ICL\n",
      "None\n"
     ]
    }
   ],
   "source": [
    "print(np.show_config())"
   ]
  },
  {
   "cell_type": "markdown",
   "id": "2fa08185",
   "metadata": {},
   "source": [
    "#3. Generate a 2x3x5 3-dimensional array with random values. Assign the array to variable \"a\"\n",
    "\n",
    "Challenge: there are at least three easy ways that use numpy to generate random arrays. How many ways can you find?"
   ]
  },
  {
   "cell_type": "code",
   "execution_count": 134,
   "id": "b98f5bf4",
   "metadata": {},
   "outputs": [
    {
     "data": {
      "text/plain": [
       "array([[[0.1672197 , 0.57663156, 0.36797333, 0.42479239, 0.66007022],\n",
       "        [0.65662119, 0.32370151, 0.44340195, 0.9311275 , 0.15581969],\n",
       "        [0.45681688, 0.33397282, 0.40957175, 0.4342466 , 0.90381168]],\n",
       "\n",
       "       [[0.07452775, 0.71606023, 0.94729383, 0.43666729, 0.86909271],\n",
       "        [0.68261012, 0.94447879, 0.01035312, 0.89500783, 0.61933372],\n",
       "        [0.83020535, 0.22178069, 0.45357474, 0.15590047, 0.51589309]]])"
      ]
     },
     "execution_count": 134,
     "metadata": {},
     "output_type": "execute_result"
    }
   ],
   "source": [
    "a = matriz=np.random.random((2, 3, 5))\n",
    "a"
   ]
  },
  {
   "cell_type": "code",
   "execution_count": 135,
   "id": "2afb266a",
   "metadata": {},
   "outputs": [],
   "source": [
    "# otras 2 formas???? Ni idea..."
   ]
  },
  {
   "cell_type": "markdown",
   "id": "5b3d8594",
   "metadata": {},
   "source": [
    "#4. Print a."
   ]
  },
  {
   "cell_type": "code",
   "execution_count": 136,
   "id": "25efa556",
   "metadata": {},
   "outputs": [
    {
     "name": "stdout",
     "output_type": "stream",
     "text": [
      "[[[0.1672197  0.57663156 0.36797333 0.42479239 0.66007022]\n",
      "  [0.65662119 0.32370151 0.44340195 0.9311275  0.15581969]\n",
      "  [0.45681688 0.33397282 0.40957175 0.4342466  0.90381168]]\n",
      "\n",
      " [[0.07452775 0.71606023 0.94729383 0.43666729 0.86909271]\n",
      "  [0.68261012 0.94447879 0.01035312 0.89500783 0.61933372]\n",
      "  [0.83020535 0.22178069 0.45357474 0.15590047 0.51589309]]]\n"
     ]
    }
   ],
   "source": [
    "print(a)"
   ]
  },
  {
   "cell_type": "markdown",
   "id": "9b5654d1",
   "metadata": {},
   "source": [
    "#5. Create a 5x2x3 3-dimensional array with all values equaling 1.\n",
    "\n",
    "Assign the array to variable \"b\""
   ]
  },
  {
   "cell_type": "code",
   "execution_count": 159,
   "id": "d8ab0642",
   "metadata": {},
   "outputs": [],
   "source": [
    "b = np.ones([5, 2, 3], dtype=int)"
   ]
  },
  {
   "cell_type": "markdown",
   "id": "386470ff",
   "metadata": {},
   "source": [
    "#6. Print b."
   ]
  },
  {
   "cell_type": "code",
   "execution_count": 160,
   "id": "6c74b0e8",
   "metadata": {},
   "outputs": [
    {
     "name": "stdout",
     "output_type": "stream",
     "text": [
      "[[[1 1 1]\n",
      "  [1 1 1]]\n",
      "\n",
      " [[1 1 1]\n",
      "  [1 1 1]]\n",
      "\n",
      " [[1 1 1]\n",
      "  [1 1 1]]\n",
      "\n",
      " [[1 1 1]\n",
      "  [1 1 1]]\n",
      "\n",
      " [[1 1 1]\n",
      "  [1 1 1]]]\n"
     ]
    }
   ],
   "source": [
    "print(b)"
   ]
  },
  {
   "cell_type": "markdown",
   "id": "8469666a",
   "metadata": {},
   "source": [
    "#7. Do a and b have the same size? How do you prove that in Python code?"
   ]
  },
  {
   "cell_type": "code",
   "execution_count": 161,
   "id": "274c6727",
   "metadata": {},
   "outputs": [
    {
     "data": {
      "text/plain": [
       "True"
      ]
     },
     "execution_count": 161,
     "metadata": {},
     "output_type": "execute_result"
    }
   ],
   "source": [
    "a.size == b.size"
   ]
  },
  {
   "cell_type": "markdown",
   "id": "81a58e68",
   "metadata": {},
   "source": [
    "#8. Are you able to add a and b? Why or why not?"
   ]
  },
  {
   "cell_type": "code",
   "execution_count": 162,
   "id": "a068b526",
   "metadata": {},
   "outputs": [
    {
     "ename": "ValueError",
     "evalue": "operands could not be broadcast together with shapes (2,3,5) (5,2,3) ",
     "output_type": "error",
     "traceback": [
      "\u001b[1;31m---------------------------------------------------------------------------\u001b[0m",
      "\u001b[1;31mValueError\u001b[0m                                Traceback (most recent call last)",
      "\u001b[1;32m~\\AppData\\Local\\Temp\\ipykernel_12964\\61278149.py\u001b[0m in \u001b[0;36m<module>\u001b[1;34m\u001b[0m\n\u001b[1;32m----> 1\u001b[1;33m \u001b[0ma\u001b[0m\u001b[1;33m+\u001b[0m\u001b[0mb\u001b[0m\u001b[1;33m\u001b[0m\u001b[1;33m\u001b[0m\u001b[0m\n\u001b[0m\u001b[0;32m      2\u001b[0m \u001b[1;31m# No:Not same shipes\u001b[0m\u001b[1;33m\u001b[0m\u001b[1;33m\u001b[0m\u001b[1;33m\u001b[0m\u001b[0m\n",
      "\u001b[1;31mValueError\u001b[0m: operands could not be broadcast together with shapes (2,3,5) (5,2,3) "
     ]
    }
   ],
   "source": [
    "a+b\n",
    "# No:Not same shipes"
   ]
  },
  {
   "cell_type": "markdown",
   "id": "c9c2a84c",
   "metadata": {},
   "source": [
    "#9. Transpose b so that it has the same structure of a (i.e. become a 2x3x5 array). Assign the transposed array to varialbe \"c\"."
   ]
  },
  {
   "cell_type": "code",
   "execution_count": 165,
   "id": "c2e8d5f8",
   "metadata": {},
   "outputs": [],
   "source": [
    "c = b.reshape(2,3,5)"
   ]
  },
  {
   "cell_type": "markdown",
   "id": "6d90a3b5",
   "metadata": {},
   "source": [
    "#10. Try to add a and c. Now it should work. Assign the sum to varialbe \"d\". But why does it work now?"
   ]
  },
  {
   "cell_type": "code",
   "execution_count": 167,
   "id": "6dfa2531",
   "metadata": {},
   "outputs": [],
   "source": [
    "d = a + c"
   ]
  },
  {
   "cell_type": "markdown",
   "id": "145b5b6b",
   "metadata": {},
   "source": [
    "#11. Print a and d. Notice the difference and relation of the two array in terms of the values? Explain."
   ]
  },
  {
   "cell_type": "code",
   "execution_count": 168,
   "id": "53a76f3f",
   "metadata": {},
   "outputs": [
    {
     "name": "stdout",
     "output_type": "stream",
     "text": [
      "[[[0.1672197  0.57663156 0.36797333 0.42479239 0.66007022]\n",
      "  [0.65662119 0.32370151 0.44340195 0.9311275  0.15581969]\n",
      "  [0.45681688 0.33397282 0.40957175 0.4342466  0.90381168]]\n",
      "\n",
      " [[0.07452775 0.71606023 0.94729383 0.43666729 0.86909271]\n",
      "  [0.68261012 0.94447879 0.01035312 0.89500783 0.61933372]\n",
      "  [0.83020535 0.22178069 0.45357474 0.15590047 0.51589309]]]\n",
      "[[[1.1672197  1.57663156 1.36797333 1.42479239 1.66007022]\n",
      "  [1.65662119 1.32370151 1.44340195 1.9311275  1.15581969]\n",
      "  [1.45681688 1.33397282 1.40957175 1.4342466  1.90381168]]\n",
      "\n",
      " [[1.07452775 1.71606023 1.94729383 1.43666729 1.86909271]\n",
      "  [1.68261012 1.94447879 1.01035312 1.89500783 1.61933372]\n",
      "  [1.83020535 1.22178069 1.45357474 1.15590047 1.51589309]]]\n"
     ]
    }
   ],
   "source": [
    "print(a)\n",
    "print(d)\n",
    "# Los valores de D valen 1 más que lo de a"
   ]
  },
  {
   "cell_type": "markdown",
   "id": "01c15ac2",
   "metadata": {},
   "source": [
    "#12. Multiply a and c. Assign the result to e."
   ]
  },
  {
   "cell_type": "code",
   "execution_count": 169,
   "id": "56546db6",
   "metadata": {},
   "outputs": [
    {
     "data": {
      "text/plain": [
       "array([[[0.1672197 , 0.57663156, 0.36797333, 0.42479239, 0.66007022],\n",
       "        [0.65662119, 0.32370151, 0.44340195, 0.9311275 , 0.15581969],\n",
       "        [0.45681688, 0.33397282, 0.40957175, 0.4342466 , 0.90381168]],\n",
       "\n",
       "       [[0.07452775, 0.71606023, 0.94729383, 0.43666729, 0.86909271],\n",
       "        [0.68261012, 0.94447879, 0.01035312, 0.89500783, 0.61933372],\n",
       "        [0.83020535, 0.22178069, 0.45357474, 0.15590047, 0.51589309]]])"
      ]
     },
     "execution_count": 169,
     "metadata": {},
     "output_type": "execute_result"
    }
   ],
   "source": [
    "e = c * a\n",
    "e"
   ]
  },
  {
   "cell_type": "code",
   "execution_count": 147,
   "id": "37b9a930",
   "metadata": {},
   "outputs": [
    {
     "data": {
      "text/plain": [
       "array([[[0.1672197 , 0.57663156, 0.36797333, 0.42479239, 0.66007022],\n",
       "        [0.65662119, 0.32370151, 0.44340195, 0.9311275 , 0.15581969],\n",
       "        [0.45681688, 0.33397282, 0.40957175, 0.4342466 , 0.90381168]],\n",
       "\n",
       "       [[0.07452775, 0.71606023, 0.94729383, 0.43666729, 0.86909271],\n",
       "        [0.68261012, 0.94447879, 0.01035312, 0.89500783, 0.61933372],\n",
       "        [0.83020535, 0.22178069, 0.45357474, 0.15590047, 0.51589309]]])"
      ]
     },
     "execution_count": 147,
     "metadata": {},
     "output_type": "execute_result"
    }
   ],
   "source": [
    "# OTRA OPCION\n",
    "e1 = np.multiply(a, c)\n",
    "e1 # elemento a elemento"
   ]
  },
  {
   "cell_type": "markdown",
   "id": "ade64092",
   "metadata": {},
   "source": [
    "#13. Does e equal to a? Why or why not?"
   ]
  },
  {
   "cell_type": "code",
   "execution_count": 170,
   "id": "d4b0bc53",
   "metadata": {},
   "outputs": [
    {
     "data": {
      "text/plain": [
       "array([[[ True,  True,  True,  True,  True],\n",
       "        [ True,  True,  True,  True,  True],\n",
       "        [ True,  True,  True,  True,  True]],\n",
       "\n",
       "       [[ True,  True,  True,  True,  True],\n",
       "        [ True,  True,  True,  True,  True],\n",
       "        [ True,  True,  True,  True,  True]]])"
      ]
     },
     "execution_count": 170,
     "metadata": {},
     "output_type": "execute_result"
    }
   ],
   "source": [
    "e == a"
   ]
  },
  {
   "cell_type": "markdown",
   "id": "42a3e848",
   "metadata": {},
   "source": [
    "#14. Identify the max, min, and mean values in d. Assign those values to variables \"d_max\", \"d_min\", and \"d_mean\""
   ]
  },
  {
   "cell_type": "code",
   "execution_count": 171,
   "id": "e5cedb89",
   "metadata": {},
   "outputs": [
    {
     "name": "stdout",
     "output_type": "stream",
     "text": [
      "1.9472938278861514\n",
      "1.0103531200927738\n",
      "1.5206186164051299\n"
     ]
    }
   ],
   "source": [
    "d_max = d.max()\n",
    "d_min = d.min()\n",
    "d_mean = d.mean()\n",
    "print(d_max)\n",
    "print(d_min)\n",
    "print(d_mean)"
   ]
  },
  {
   "cell_type": "markdown",
   "id": "82f8a91a",
   "metadata": {},
   "source": [
    "#15. Now we want to label the values in d. First create an empty array \"f\" with the same shape (i.e. 2x3x5) as d using `np.empty`."
   ]
  },
  {
   "cell_type": "code",
   "execution_count": 172,
   "id": "25b05cda",
   "metadata": {},
   "outputs": [
    {
     "data": {
      "text/plain": [
       "array([[[0.1672197 , 0.57663156, 0.36797333, 0.42479239, 0.66007022],\n",
       "        [0.65662119, 0.32370151, 0.44340195, 0.9311275 , 0.15581969],\n",
       "        [0.45681688, 0.33397282, 0.40957175, 0.4342466 , 0.90381168]],\n",
       "\n",
       "       [[0.07452775, 0.71606023, 0.94729383, 0.43666729, 0.86909271],\n",
       "        [0.68261012, 0.94447879, 0.01035312, 0.89500783, 0.61933372],\n",
       "        [0.83020535, 0.22178069, 0.45357474, 0.15590047, 0.51589309]]])"
      ]
     },
     "execution_count": 172,
     "metadata": {},
     "output_type": "execute_result"
    }
   ],
   "source": [
    "f = np.empty((2,3,5))\n",
    "f"
   ]
  },
  {
   "cell_type": "markdown",
   "id": "96b6398e",
   "metadata": {},
   "source": [
    "\"\"\"\n",
    "#16. Populate the values in f. For each value in d, if it's larger than d_min but smaller than d_mean, assign 25 to the corresponding value in f.\n",
    "If a value in d is larger than d_mean but smaller than d_max, assign 75 to the corresponding value in f.\n",
    "If a value equals to d_mean, assign 50 to the corresponding value in f.\n",
    "Assign 0 to the corresponding value(s) in f for d_min in d.\n",
    "Assign 100 to the corresponding value(s) in f for d_max in d.\n",
    "In the end, f should have only the following values: 0, 25, 50, 75, and 100.\n",
    "Note: you don't have to use Numpy in this question.\n",
    "\"\"\"\n"
   ]
  },
  {
   "cell_type": "code",
   "execution_count": 173,
   "id": "8a74d268",
   "metadata": {},
   "outputs": [
    {
     "data": {
      "text/plain": [
       "array([[[ 25,  75,  25,  25,  75],\n",
       "        [ 75,  25,  25,  75,  25],\n",
       "        [ 25,  25,  25,  25,  75]],\n",
       "\n",
       "       [[ 25,  75, 100,  25,  75],\n",
       "        [ 75,  75,   0,  75,  75],\n",
       "        [ 75,  25,  25,  25,  25]]])"
      ]
     },
     "execution_count": 173,
     "metadata": {},
     "output_type": "execute_result"
    }
   ],
   "source": [
    "f = np.where((d > d_min) & (d < d_mean), 25, \n",
    "             np.where(d == d_mean, 50,\n",
    "                      np.where(d == d_min, 0,\n",
    "                               np.where(d == d_max, 100, 75))))\n",
    "    \n",
    "#np.where(d > d_mean) and (d < d_max), 75,    \n",
    "    \n",
    "f"
   ]
  },
  {
   "cell_type": "markdown",
   "id": "6da79ed1",
   "metadata": {},
   "source": [
    "\"\"\"\n",
    "#17. Print d and f. Do you have your expected f?\n",
    "For instance, if your d is:\n",
    "array([[[1.85836099, 1.67064465, 1.62576044, 1.40243961, 1.88454931],\n",
    "        [1.75354326, 1.69403643, 1.36729252, 1.61415071, 1.12104981],\n",
    "        [1.72201435, 1.1862918 , 1.87078449, 1.7726778 , 1.88180042]],\n",
    "\n",
    "       [[1.44747908, 1.31673383, 1.02000951, 1.52218947, 1.97066381],\n",
    "        [1.79129243, 1.74983003, 1.96028037, 1.85166831, 1.65450881],\n",
    "        [1.18068344, 1.9587381 , 1.00656599, 1.93402165, 1.73514584]]])\n",
    "\n",
    "Your f should be:\n",
    "array([[[ 75.,  75.,  75.,  25.,  75.],\n",
    "        [ 75.,  75.,  25.,  25.,  25.],\n",
    "        [ 75.,  25.,  75.,  75.,  75.]],\n",
    "\n",
    "       [[ 25.,  25.,  25.,  25., 100.],\n",
    "        [ 75.,  75.,  75.,  75.,  75.],\n",
    "        [ 25.,  75.,   0.,  75.,  75.]]])\n",
    "\"\"\"\n"
   ]
  },
  {
   "cell_type": "code",
   "execution_count": 174,
   "id": "fd21c055",
   "metadata": {},
   "outputs": [
    {
     "name": "stdout",
     "output_type": "stream",
     "text": [
      "[[[1.1672197  1.57663156 1.36797333 1.42479239 1.66007022]\n",
      "  [1.65662119 1.32370151 1.44340195 1.9311275  1.15581969]\n",
      "  [1.45681688 1.33397282 1.40957175 1.4342466  1.90381168]]\n",
      "\n",
      " [[1.07452775 1.71606023 1.94729383 1.43666729 1.86909271]\n",
      "  [1.68261012 1.94447879 1.01035312 1.89500783 1.61933372]\n",
      "  [1.83020535 1.22178069 1.45357474 1.15590047 1.51589309]]]\n",
      "[[[ 25  75  25  25  75]\n",
      "  [ 75  25  25  75  25]\n",
      "  [ 25  25  25  25  75]]\n",
      "\n",
      " [[ 25  75 100  25  75]\n",
      "  [ 75  75   0  75  75]\n",
      "  [ 75  25  25  25  25]]]\n"
     ]
    }
   ],
   "source": [
    "print(d)\n",
    "print(f)"
   ]
  },
  {
   "cell_type": "markdown",
   "id": "28c0c789",
   "metadata": {},
   "source": [
    "\n",
    "\"\"\"\n",
    "#18. Bonus question: instead of using numbers (i.e. 0, 25, 50, 75, and 100), how to use string values \n",
    "(\"A\", \"B\", \"C\", \"D\", and \"E\") to label the array elements? You are expecting the result to be:\n",
    "array([[[ 'D',  'D',  'D',  'B',  'D'],\n",
    "        [ 'D',  'D',  'B',  'B',  'B'],\n",
    "        [ 'D',  'B',  'D',  'D',  'D']],\n",
    "\n",
    "       [[ 'B',  'B',  'B',  'B',  'E'],\n",
    "        [ 'D',  'D',  'D',  'D',  'D'],\n",
    "        [ 'B',  'D',   'A',  'D', 'D']]])\n",
    "Again, you don't need Numpy in this question.\n",
    "\"\"\""
   ]
  },
  {
   "cell_type": "code",
   "execution_count": null,
   "id": "4474e3d6",
   "metadata": {},
   "outputs": [],
   "source": []
  }
 ],
 "metadata": {
  "kernelspec": {
   "display_name": "clase",
   "language": "python",
   "name": "clase"
  },
  "language_info": {
   "codemirror_mode": {
    "name": "ipython",
    "version": 3
   },
   "file_extension": ".py",
   "mimetype": "text/x-python",
   "name": "python",
   "nbconvert_exporter": "python",
   "pygments_lexer": "ipython3",
   "version": "3.7.13"
  }
 },
 "nbformat": 4,
 "nbformat_minor": 5
}
